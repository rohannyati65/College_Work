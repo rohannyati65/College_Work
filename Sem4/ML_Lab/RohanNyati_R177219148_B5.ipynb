{
  "nbformat": 4,
  "nbformat_minor": 0,
  "metadata": {
    "colab": {
      "name": "RohanNyati_R177219148_B5.ipynb",
      "provenance": [],
      "collapsed_sections": [
        "mPAihSVOsXtU",
        "6HoN2gCtr5kK",
        "Kat7q2LGqwXR",
        "x-Jv_WR6rAGY",
        "cn06uNyUrG_n",
        "GIpjkmjyrPQl",
        "UQol2kqSrTgU",
        "jjXEctqtp5z7"
      ]
    },
    "kernelspec": {
      "name": "python3",
      "display_name": "Python 3"
    },
    "language_info": {
      "name": "python"
    }
  },
  "cells": [
    {
      "cell_type": "code",
      "metadata": {
        "id": "IzKIKyE8Afj5",
        "colab": {
          "base_uri": "https://localhost:8080/"
        },
        "outputId": "0a13478c-e8ec-47d4-e0a6-eee7045f2ec7"
      },
      "source": [
        "!pip install category_encoders"
      ],
      "execution_count": 2,
      "outputs": [
        {
          "output_type": "stream",
          "text": [
            "Requirement already satisfied: category_encoders in /usr/local/lib/python3.7/dist-packages (2.2.2)\n",
            "Requirement already satisfied: scikit-learn>=0.20.0 in /usr/local/lib/python3.7/dist-packages (from category_encoders) (0.22.2.post1)\n",
            "Requirement already satisfied: statsmodels>=0.9.0 in /usr/local/lib/python3.7/dist-packages (from category_encoders) (0.10.2)\n",
            "Requirement already satisfied: pandas>=0.21.1 in /usr/local/lib/python3.7/dist-packages (from category_encoders) (1.1.5)\n",
            "Requirement already satisfied: scipy>=1.0.0 in /usr/local/lib/python3.7/dist-packages (from category_encoders) (1.4.1)\n",
            "Requirement already satisfied: patsy>=0.5.1 in /usr/local/lib/python3.7/dist-packages (from category_encoders) (0.5.1)\n",
            "Requirement already satisfied: numpy>=1.14.0 in /usr/local/lib/python3.7/dist-packages (from category_encoders) (1.19.5)\n",
            "Requirement already satisfied: joblib>=0.11 in /usr/local/lib/python3.7/dist-packages (from scikit-learn>=0.20.0->category_encoders) (1.0.1)\n",
            "Requirement already satisfied: python-dateutil>=2.7.3 in /usr/local/lib/python3.7/dist-packages (from pandas>=0.21.1->category_encoders) (2.8.1)\n",
            "Requirement already satisfied: pytz>=2017.2 in /usr/local/lib/python3.7/dist-packages (from pandas>=0.21.1->category_encoders) (2018.9)\n",
            "Requirement already satisfied: six in /usr/local/lib/python3.7/dist-packages (from patsy>=0.5.1->category_encoders) (1.15.0)\n"
          ],
          "name": "stdout"
        }
      ]
    },
    {
      "cell_type": "code",
      "metadata": {
        "id": "mlwY0ukurNWE"
      },
      "source": [
        "import numpy as np\n",
        "import pandas as pd\n",
        "import matplotlib.pyplot as plt\n",
        "%matplotlib inline\n",
        "import seaborn as sns\n",
        "import warnings\n",
        "warnings.filterwarnings('ignore')\n",
        "import category_encoders as ce\n",
        "from sklearn.feature_selection import f_regression, VarianceThreshold, mutual_info_classif, SelectKBest\n",
        "from sklearn.feature_selection import SelectFromModel\n",
        "from mlxtend.feature_selection import ExhaustiveFeatureSelector as EFS\n",
        "from mlxtend.feature_selection import SequentialFeatureSelector as SFS\n",
        "from sklearn.model_selection import train_test_split, cross_val_score, GridSearchCV\n",
        "from sklearn.linear_model import LinearRegression\n",
        "from sklearn.ensemble import RandomForestRegressor\n",
        "from sklearn.tree import DecisionTreeRegressor\n",
        "from sklearn.metrics import r2_score"
      ],
      "execution_count": 3,
      "outputs": []
    },
    {
      "cell_type": "markdown",
      "metadata": {
        "id": "mPAihSVOsXtU"
      },
      "source": [
        "# Loading the data"
      ]
    },
    {
      "cell_type": "code",
      "metadata": {
        "colab": {
          "base_uri": "https://localhost:8080/",
          "height": 333
        },
        "id": "049jVTNlKKiM",
        "outputId": "584afe76-1928-405a-9938-786be77afe5e"
      },
      "source": [
        "melb_data = pd.read_csv('melb_data.csv.zip')\n",
        "melb_data.head()"
      ],
      "execution_count": 4,
      "outputs": [
        {
          "output_type": "execute_result",
          "data": {
            "text/html": [
              "<div>\n",
              "<style scoped>\n",
              "    .dataframe tbody tr th:only-of-type {\n",
              "        vertical-align: middle;\n",
              "    }\n",
              "\n",
              "    .dataframe tbody tr th {\n",
              "        vertical-align: top;\n",
              "    }\n",
              "\n",
              "    .dataframe thead th {\n",
              "        text-align: right;\n",
              "    }\n",
              "</style>\n",
              "<table border=\"1\" class=\"dataframe\">\n",
              "  <thead>\n",
              "    <tr style=\"text-align: right;\">\n",
              "      <th></th>\n",
              "      <th>Suburb</th>\n",
              "      <th>Address</th>\n",
              "      <th>Rooms</th>\n",
              "      <th>Type</th>\n",
              "      <th>Price</th>\n",
              "      <th>Method</th>\n",
              "      <th>SellerG</th>\n",
              "      <th>Date</th>\n",
              "      <th>Distance</th>\n",
              "      <th>Postcode</th>\n",
              "      <th>Bedroom2</th>\n",
              "      <th>Bathroom</th>\n",
              "      <th>Car</th>\n",
              "      <th>Landsize</th>\n",
              "      <th>BuildingArea</th>\n",
              "      <th>YearBuilt</th>\n",
              "      <th>CouncilArea</th>\n",
              "      <th>Lattitude</th>\n",
              "      <th>Longtitude</th>\n",
              "      <th>Regionname</th>\n",
              "      <th>Propertycount</th>\n",
              "    </tr>\n",
              "  </thead>\n",
              "  <tbody>\n",
              "    <tr>\n",
              "      <th>0</th>\n",
              "      <td>Abbotsford</td>\n",
              "      <td>85 Turner St</td>\n",
              "      <td>2</td>\n",
              "      <td>h</td>\n",
              "      <td>1480000.0</td>\n",
              "      <td>S</td>\n",
              "      <td>Biggin</td>\n",
              "      <td>3/12/2016</td>\n",
              "      <td>2.5</td>\n",
              "      <td>3067.0</td>\n",
              "      <td>2.0</td>\n",
              "      <td>1.0</td>\n",
              "      <td>1.0</td>\n",
              "      <td>202.0</td>\n",
              "      <td>NaN</td>\n",
              "      <td>NaN</td>\n",
              "      <td>Yarra</td>\n",
              "      <td>-37.7996</td>\n",
              "      <td>144.9984</td>\n",
              "      <td>Northern Metropolitan</td>\n",
              "      <td>4019.0</td>\n",
              "    </tr>\n",
              "    <tr>\n",
              "      <th>1</th>\n",
              "      <td>Abbotsford</td>\n",
              "      <td>25 Bloomburg St</td>\n",
              "      <td>2</td>\n",
              "      <td>h</td>\n",
              "      <td>1035000.0</td>\n",
              "      <td>S</td>\n",
              "      <td>Biggin</td>\n",
              "      <td>4/02/2016</td>\n",
              "      <td>2.5</td>\n",
              "      <td>3067.0</td>\n",
              "      <td>2.0</td>\n",
              "      <td>1.0</td>\n",
              "      <td>0.0</td>\n",
              "      <td>156.0</td>\n",
              "      <td>79.0</td>\n",
              "      <td>1900.0</td>\n",
              "      <td>Yarra</td>\n",
              "      <td>-37.8079</td>\n",
              "      <td>144.9934</td>\n",
              "      <td>Northern Metropolitan</td>\n",
              "      <td>4019.0</td>\n",
              "    </tr>\n",
              "    <tr>\n",
              "      <th>2</th>\n",
              "      <td>Abbotsford</td>\n",
              "      <td>5 Charles St</td>\n",
              "      <td>3</td>\n",
              "      <td>h</td>\n",
              "      <td>1465000.0</td>\n",
              "      <td>SP</td>\n",
              "      <td>Biggin</td>\n",
              "      <td>4/03/2017</td>\n",
              "      <td>2.5</td>\n",
              "      <td>3067.0</td>\n",
              "      <td>3.0</td>\n",
              "      <td>2.0</td>\n",
              "      <td>0.0</td>\n",
              "      <td>134.0</td>\n",
              "      <td>150.0</td>\n",
              "      <td>1900.0</td>\n",
              "      <td>Yarra</td>\n",
              "      <td>-37.8093</td>\n",
              "      <td>144.9944</td>\n",
              "      <td>Northern Metropolitan</td>\n",
              "      <td>4019.0</td>\n",
              "    </tr>\n",
              "    <tr>\n",
              "      <th>3</th>\n",
              "      <td>Abbotsford</td>\n",
              "      <td>40 Federation La</td>\n",
              "      <td>3</td>\n",
              "      <td>h</td>\n",
              "      <td>850000.0</td>\n",
              "      <td>PI</td>\n",
              "      <td>Biggin</td>\n",
              "      <td>4/03/2017</td>\n",
              "      <td>2.5</td>\n",
              "      <td>3067.0</td>\n",
              "      <td>3.0</td>\n",
              "      <td>2.0</td>\n",
              "      <td>1.0</td>\n",
              "      <td>94.0</td>\n",
              "      <td>NaN</td>\n",
              "      <td>NaN</td>\n",
              "      <td>Yarra</td>\n",
              "      <td>-37.7969</td>\n",
              "      <td>144.9969</td>\n",
              "      <td>Northern Metropolitan</td>\n",
              "      <td>4019.0</td>\n",
              "    </tr>\n",
              "    <tr>\n",
              "      <th>4</th>\n",
              "      <td>Abbotsford</td>\n",
              "      <td>55a Park St</td>\n",
              "      <td>4</td>\n",
              "      <td>h</td>\n",
              "      <td>1600000.0</td>\n",
              "      <td>VB</td>\n",
              "      <td>Nelson</td>\n",
              "      <td>4/06/2016</td>\n",
              "      <td>2.5</td>\n",
              "      <td>3067.0</td>\n",
              "      <td>3.0</td>\n",
              "      <td>1.0</td>\n",
              "      <td>2.0</td>\n",
              "      <td>120.0</td>\n",
              "      <td>142.0</td>\n",
              "      <td>2014.0</td>\n",
              "      <td>Yarra</td>\n",
              "      <td>-37.8072</td>\n",
              "      <td>144.9941</td>\n",
              "      <td>Northern Metropolitan</td>\n",
              "      <td>4019.0</td>\n",
              "    </tr>\n",
              "  </tbody>\n",
              "</table>\n",
              "</div>"
            ],
            "text/plain": [
              "       Suburb           Address  ...             Regionname Propertycount\n",
              "0  Abbotsford      85 Turner St  ...  Northern Metropolitan        4019.0\n",
              "1  Abbotsford   25 Bloomburg St  ...  Northern Metropolitan        4019.0\n",
              "2  Abbotsford      5 Charles St  ...  Northern Metropolitan        4019.0\n",
              "3  Abbotsford  40 Federation La  ...  Northern Metropolitan        4019.0\n",
              "4  Abbotsford       55a Park St  ...  Northern Metropolitan        4019.0\n",
              "\n",
              "[5 rows x 21 columns]"
            ]
          },
          "metadata": {
            "tags": []
          },
          "execution_count": 4
        }
      ]
    },
    {
      "cell_type": "code",
      "metadata": {
        "colab": {
          "base_uri": "https://localhost:8080/"
        },
        "id": "CPwow6-UKKfv",
        "outputId": "277d409d-a3bf-4c2c-a85c-69ed312f09d1"
      },
      "source": [
        "print(melb_data.columns)\n",
        "print(\"There are are {} features in the Melbourne Dataset\".format(len(melb_data.columns)))"
      ],
      "execution_count": 5,
      "outputs": [
        {
          "output_type": "stream",
          "text": [
            "Index(['Suburb', 'Address', 'Rooms', 'Type', 'Price', 'Method', 'SellerG',\n",
            "       'Date', 'Distance', 'Postcode', 'Bedroom2', 'Bathroom', 'Car',\n",
            "       'Landsize', 'BuildingArea', 'YearBuilt', 'CouncilArea', 'Lattitude',\n",
            "       'Longtitude', 'Regionname', 'Propertycount'],\n",
            "      dtype='object')\n",
            "There are are 21 features in the Melbourne Dataset\n"
          ],
          "name": "stdout"
        }
      ]
    },
    {
      "cell_type": "code",
      "metadata": {
        "colab": {
          "base_uri": "https://localhost:8080/",
          "height": 304
        },
        "id": "-5hMF5njKKc4",
        "outputId": "275c722d-0565-4597-81eb-d523076ed6d2"
      },
      "source": [
        "melb_data.describe()"
      ],
      "execution_count": 6,
      "outputs": [
        {
          "output_type": "execute_result",
          "data": {
            "text/html": [
              "<div>\n",
              "<style scoped>\n",
              "    .dataframe tbody tr th:only-of-type {\n",
              "        vertical-align: middle;\n",
              "    }\n",
              "\n",
              "    .dataframe tbody tr th {\n",
              "        vertical-align: top;\n",
              "    }\n",
              "\n",
              "    .dataframe thead th {\n",
              "        text-align: right;\n",
              "    }\n",
              "</style>\n",
              "<table border=\"1\" class=\"dataframe\">\n",
              "  <thead>\n",
              "    <tr style=\"text-align: right;\">\n",
              "      <th></th>\n",
              "      <th>Rooms</th>\n",
              "      <th>Price</th>\n",
              "      <th>Distance</th>\n",
              "      <th>Postcode</th>\n",
              "      <th>Bedroom2</th>\n",
              "      <th>Bathroom</th>\n",
              "      <th>Car</th>\n",
              "      <th>Landsize</th>\n",
              "      <th>BuildingArea</th>\n",
              "      <th>YearBuilt</th>\n",
              "      <th>Lattitude</th>\n",
              "      <th>Longtitude</th>\n",
              "      <th>Propertycount</th>\n",
              "    </tr>\n",
              "  </thead>\n",
              "  <tbody>\n",
              "    <tr>\n",
              "      <th>count</th>\n",
              "      <td>13580.000000</td>\n",
              "      <td>1.358000e+04</td>\n",
              "      <td>13580.000000</td>\n",
              "      <td>13580.000000</td>\n",
              "      <td>13580.000000</td>\n",
              "      <td>13580.000000</td>\n",
              "      <td>13518.000000</td>\n",
              "      <td>13580.000000</td>\n",
              "      <td>7130.000000</td>\n",
              "      <td>8205.000000</td>\n",
              "      <td>13580.000000</td>\n",
              "      <td>13580.000000</td>\n",
              "      <td>13580.000000</td>\n",
              "    </tr>\n",
              "    <tr>\n",
              "      <th>mean</th>\n",
              "      <td>2.937997</td>\n",
              "      <td>1.075684e+06</td>\n",
              "      <td>10.137776</td>\n",
              "      <td>3105.301915</td>\n",
              "      <td>2.914728</td>\n",
              "      <td>1.534242</td>\n",
              "      <td>1.610075</td>\n",
              "      <td>558.416127</td>\n",
              "      <td>151.967650</td>\n",
              "      <td>1964.684217</td>\n",
              "      <td>-37.809203</td>\n",
              "      <td>144.995216</td>\n",
              "      <td>7454.417378</td>\n",
              "    </tr>\n",
              "    <tr>\n",
              "      <th>std</th>\n",
              "      <td>0.955748</td>\n",
              "      <td>6.393107e+05</td>\n",
              "      <td>5.868725</td>\n",
              "      <td>90.676964</td>\n",
              "      <td>0.965921</td>\n",
              "      <td>0.691712</td>\n",
              "      <td>0.962634</td>\n",
              "      <td>3990.669241</td>\n",
              "      <td>541.014538</td>\n",
              "      <td>37.273762</td>\n",
              "      <td>0.079260</td>\n",
              "      <td>0.103916</td>\n",
              "      <td>4378.581772</td>\n",
              "    </tr>\n",
              "    <tr>\n",
              "      <th>min</th>\n",
              "      <td>1.000000</td>\n",
              "      <td>8.500000e+04</td>\n",
              "      <td>0.000000</td>\n",
              "      <td>3000.000000</td>\n",
              "      <td>0.000000</td>\n",
              "      <td>0.000000</td>\n",
              "      <td>0.000000</td>\n",
              "      <td>0.000000</td>\n",
              "      <td>0.000000</td>\n",
              "      <td>1196.000000</td>\n",
              "      <td>-38.182550</td>\n",
              "      <td>144.431810</td>\n",
              "      <td>249.000000</td>\n",
              "    </tr>\n",
              "    <tr>\n",
              "      <th>25%</th>\n",
              "      <td>2.000000</td>\n",
              "      <td>6.500000e+05</td>\n",
              "      <td>6.100000</td>\n",
              "      <td>3044.000000</td>\n",
              "      <td>2.000000</td>\n",
              "      <td>1.000000</td>\n",
              "      <td>1.000000</td>\n",
              "      <td>177.000000</td>\n",
              "      <td>93.000000</td>\n",
              "      <td>1940.000000</td>\n",
              "      <td>-37.856822</td>\n",
              "      <td>144.929600</td>\n",
              "      <td>4380.000000</td>\n",
              "    </tr>\n",
              "    <tr>\n",
              "      <th>50%</th>\n",
              "      <td>3.000000</td>\n",
              "      <td>9.030000e+05</td>\n",
              "      <td>9.200000</td>\n",
              "      <td>3084.000000</td>\n",
              "      <td>3.000000</td>\n",
              "      <td>1.000000</td>\n",
              "      <td>2.000000</td>\n",
              "      <td>440.000000</td>\n",
              "      <td>126.000000</td>\n",
              "      <td>1970.000000</td>\n",
              "      <td>-37.802355</td>\n",
              "      <td>145.000100</td>\n",
              "      <td>6555.000000</td>\n",
              "    </tr>\n",
              "    <tr>\n",
              "      <th>75%</th>\n",
              "      <td>3.000000</td>\n",
              "      <td>1.330000e+06</td>\n",
              "      <td>13.000000</td>\n",
              "      <td>3148.000000</td>\n",
              "      <td>3.000000</td>\n",
              "      <td>2.000000</td>\n",
              "      <td>2.000000</td>\n",
              "      <td>651.000000</td>\n",
              "      <td>174.000000</td>\n",
              "      <td>1999.000000</td>\n",
              "      <td>-37.756400</td>\n",
              "      <td>145.058305</td>\n",
              "      <td>10331.000000</td>\n",
              "    </tr>\n",
              "    <tr>\n",
              "      <th>max</th>\n",
              "      <td>10.000000</td>\n",
              "      <td>9.000000e+06</td>\n",
              "      <td>48.100000</td>\n",
              "      <td>3977.000000</td>\n",
              "      <td>20.000000</td>\n",
              "      <td>8.000000</td>\n",
              "      <td>10.000000</td>\n",
              "      <td>433014.000000</td>\n",
              "      <td>44515.000000</td>\n",
              "      <td>2018.000000</td>\n",
              "      <td>-37.408530</td>\n",
              "      <td>145.526350</td>\n",
              "      <td>21650.000000</td>\n",
              "    </tr>\n",
              "  </tbody>\n",
              "</table>\n",
              "</div>"
            ],
            "text/plain": [
              "              Rooms         Price  ...    Longtitude  Propertycount\n",
              "count  13580.000000  1.358000e+04  ...  13580.000000   13580.000000\n",
              "mean       2.937997  1.075684e+06  ...    144.995216    7454.417378\n",
              "std        0.955748  6.393107e+05  ...      0.103916    4378.581772\n",
              "min        1.000000  8.500000e+04  ...    144.431810     249.000000\n",
              "25%        2.000000  6.500000e+05  ...    144.929600    4380.000000\n",
              "50%        3.000000  9.030000e+05  ...    145.000100    6555.000000\n",
              "75%        3.000000  1.330000e+06  ...    145.058305   10331.000000\n",
              "max       10.000000  9.000000e+06  ...    145.526350   21650.000000\n",
              "\n",
              "[8 rows x 13 columns]"
            ]
          },
          "metadata": {
            "tags": []
          },
          "execution_count": 6
        }
      ]
    },
    {
      "cell_type": "code",
      "metadata": {
        "colab": {
          "base_uri": "https://localhost:8080/"
        },
        "id": "baaLS8kYKKZp",
        "outputId": "97cba344-8921-4dd3-f2e5-644f6d627c23"
      },
      "source": [
        "melb_data.info()"
      ],
      "execution_count": 7,
      "outputs": [
        {
          "output_type": "stream",
          "text": [
            "<class 'pandas.core.frame.DataFrame'>\n",
            "RangeIndex: 13580 entries, 0 to 13579\n",
            "Data columns (total 21 columns):\n",
            " #   Column         Non-Null Count  Dtype  \n",
            "---  ------         --------------  -----  \n",
            " 0   Suburb         13580 non-null  object \n",
            " 1   Address        13580 non-null  object \n",
            " 2   Rooms          13580 non-null  int64  \n",
            " 3   Type           13580 non-null  object \n",
            " 4   Price          13580 non-null  float64\n",
            " 5   Method         13580 non-null  object \n",
            " 6   SellerG        13580 non-null  object \n",
            " 7   Date           13580 non-null  object \n",
            " 8   Distance       13580 non-null  float64\n",
            " 9   Postcode       13580 non-null  float64\n",
            " 10  Bedroom2       13580 non-null  float64\n",
            " 11  Bathroom       13580 non-null  float64\n",
            " 12  Car            13518 non-null  float64\n",
            " 13  Landsize       13580 non-null  float64\n",
            " 14  BuildingArea   7130 non-null   float64\n",
            " 15  YearBuilt      8205 non-null   float64\n",
            " 16  CouncilArea    12211 non-null  object \n",
            " 17  Lattitude      13580 non-null  float64\n",
            " 18  Longtitude     13580 non-null  float64\n",
            " 19  Regionname     13580 non-null  object \n",
            " 20  Propertycount  13580 non-null  float64\n",
            "dtypes: float64(12), int64(1), object(8)\n",
            "memory usage: 2.2+ MB\n"
          ],
          "name": "stdout"
        }
      ]
    },
    {
      "cell_type": "code",
      "metadata": {
        "colab": {
          "base_uri": "https://localhost:8080/"
        },
        "id": "ubaTCaA5KKWt",
        "outputId": "d44362b2-6b02-4fd6-ef90-545085f63211"
      },
      "source": [
        "melb_data.isnull().sum()"
      ],
      "execution_count": 8,
      "outputs": [
        {
          "output_type": "execute_result",
          "data": {
            "text/plain": [
              "Suburb              0\n",
              "Address             0\n",
              "Rooms               0\n",
              "Type                0\n",
              "Price               0\n",
              "Method              0\n",
              "SellerG             0\n",
              "Date                0\n",
              "Distance            0\n",
              "Postcode            0\n",
              "Bedroom2            0\n",
              "Bathroom            0\n",
              "Car                62\n",
              "Landsize            0\n",
              "BuildingArea     6450\n",
              "YearBuilt        5375\n",
              "CouncilArea      1369\n",
              "Lattitude           0\n",
              "Longtitude          0\n",
              "Regionname          0\n",
              "Propertycount       0\n",
              "dtype: int64"
            ]
          },
          "metadata": {
            "tags": []
          },
          "execution_count": 8
        }
      ]
    },
    {
      "cell_type": "code",
      "metadata": {
        "id": "HNCrosw-KKTj"
      },
      "source": [
        "#Handling NaN values in 'Car' column, filling them with their mean value\n",
        "melb_data['Car'].fillna(round(melb_data['Car'].mean()), inplace=True)\n",
        "melb_data['BuildingArea'].fillna(melb_data['BuildingArea'].mean(), inplace=True)\n",
        "melb_data['YearBuilt'].fillna(round(melb_data['YearBuilt'].mean()), inplace=True)\n",
        "melb_data['CouncilArea'].fillna(method='ffill', inplace=True)"
      ],
      "execution_count": 9,
      "outputs": []
    },
    {
      "cell_type": "code",
      "metadata": {
        "colab": {
          "base_uri": "https://localhost:8080/"
        },
        "id": "4Nz4kpHrKKQc",
        "outputId": "2b9b1f77-0360-4199-b384-129475ff47ed"
      },
      "source": [
        "melb_data.info()"
      ],
      "execution_count": 10,
      "outputs": [
        {
          "output_type": "stream",
          "text": [
            "<class 'pandas.core.frame.DataFrame'>\n",
            "RangeIndex: 13580 entries, 0 to 13579\n",
            "Data columns (total 21 columns):\n",
            " #   Column         Non-Null Count  Dtype  \n",
            "---  ------         --------------  -----  \n",
            " 0   Suburb         13580 non-null  object \n",
            " 1   Address        13580 non-null  object \n",
            " 2   Rooms          13580 non-null  int64  \n",
            " 3   Type           13580 non-null  object \n",
            " 4   Price          13580 non-null  float64\n",
            " 5   Method         13580 non-null  object \n",
            " 6   SellerG        13580 non-null  object \n",
            " 7   Date           13580 non-null  object \n",
            " 8   Distance       13580 non-null  float64\n",
            " 9   Postcode       13580 non-null  float64\n",
            " 10  Bedroom2       13580 non-null  float64\n",
            " 11  Bathroom       13580 non-null  float64\n",
            " 12  Car            13580 non-null  float64\n",
            " 13  Landsize       13580 non-null  float64\n",
            " 14  BuildingArea   13580 non-null  float64\n",
            " 15  YearBuilt      13580 non-null  float64\n",
            " 16  CouncilArea    13580 non-null  object \n",
            " 17  Lattitude      13580 non-null  float64\n",
            " 18  Longtitude     13580 non-null  float64\n",
            " 19  Regionname     13580 non-null  object \n",
            " 20  Propertycount  13580 non-null  float64\n",
            "dtypes: float64(12), int64(1), object(8)\n",
            "memory usage: 2.2+ MB\n"
          ],
          "name": "stdout"
        }
      ]
    },
    {
      "cell_type": "code",
      "metadata": {
        "colab": {
          "base_uri": "https://localhost:8080/"
        },
        "id": "4efsFA83KKN-",
        "outputId": "33f70fa9-5b2b-4c13-e358-afffee7e61de"
      },
      "source": [
        "#All null values have been removed\n",
        "melb_data.isnull().sum()"
      ],
      "execution_count": 11,
      "outputs": [
        {
          "output_type": "execute_result",
          "data": {
            "text/plain": [
              "Suburb           0\n",
              "Address          0\n",
              "Rooms            0\n",
              "Type             0\n",
              "Price            0\n",
              "Method           0\n",
              "SellerG          0\n",
              "Date             0\n",
              "Distance         0\n",
              "Postcode         0\n",
              "Bedroom2         0\n",
              "Bathroom         0\n",
              "Car              0\n",
              "Landsize         0\n",
              "BuildingArea     0\n",
              "YearBuilt        0\n",
              "CouncilArea      0\n",
              "Lattitude        0\n",
              "Longtitude       0\n",
              "Regionname       0\n",
              "Propertycount    0\n",
              "dtype: int64"
            ]
          },
          "metadata": {
            "tags": []
          },
          "execution_count": 11
        }
      ]
    },
    {
      "cell_type": "code",
      "metadata": {
        "colab": {
          "base_uri": "https://localhost:8080/"
        },
        "id": "urQkv9w3KKK8",
        "outputId": "51135fb6-1dab-4e44-de5e-f6731d4e6c8e"
      },
      "source": [
        "melb_data.shape"
      ],
      "execution_count": 12,
      "outputs": [
        {
          "output_type": "execute_result",
          "data": {
            "text/plain": [
              "(13580, 21)"
            ]
          },
          "metadata": {
            "tags": []
          },
          "execution_count": 12
        }
      ]
    },
    {
      "cell_type": "code",
      "metadata": {
        "colab": {
          "base_uri": "https://localhost:8080/"
        },
        "id": "5tx-p_iKKKIF",
        "outputId": "8bd602f0-1d4a-449a-9e33-45b6154551d5"
      },
      "source": [
        "#Checking the datatype of different features present in the dataset\n",
        "melb_data.dtypes"
      ],
      "execution_count": 13,
      "outputs": [
        {
          "output_type": "execute_result",
          "data": {
            "text/plain": [
              "Suburb            object\n",
              "Address           object\n",
              "Rooms              int64\n",
              "Type              object\n",
              "Price            float64\n",
              "Method            object\n",
              "SellerG           object\n",
              "Date              object\n",
              "Distance         float64\n",
              "Postcode         float64\n",
              "Bedroom2         float64\n",
              "Bathroom         float64\n",
              "Car              float64\n",
              "Landsize         float64\n",
              "BuildingArea     float64\n",
              "YearBuilt        float64\n",
              "CouncilArea       object\n",
              "Lattitude        float64\n",
              "Longtitude       float64\n",
              "Regionname        object\n",
              "Propertycount    float64\n",
              "dtype: object"
            ]
          },
          "metadata": {
            "tags": []
          },
          "execution_count": 13
        }
      ]
    },
    {
      "cell_type": "code",
      "metadata": {
        "colab": {
          "base_uri": "https://localhost:8080/"
        },
        "id": "CITLGhJkKKCX",
        "outputId": "97e98e03-7141-4dd9-8f8d-d08387376d83"
      },
      "source": [
        "#Finding the number of numerical features\n",
        "numeric_data = melb_data.select_dtypes(include=[np.number])\n",
        "#Finding the number of categorical features\n",
        "categorical_data = melb_data.select_dtypes(exclude=[np.number])\n",
        "#Number of numerical and categorical features\n",
        "print(\"There are {0} numerical features and {1} categorical features in the Melbourne dataset\".\n",
        "      format(numeric_data.shape[1], categorical_data.shape[1]))"
      ],
      "execution_count": 14,
      "outputs": [
        {
          "output_type": "stream",
          "text": [
            "There are 13 numerical features and 8 categorical features in the Melbourne dataset\n"
          ],
          "name": "stdout"
        }
      ]
    },
    {
      "cell_type": "code",
      "metadata": {
        "colab": {
          "base_uri": "https://localhost:8080/"
        },
        "id": "B5p_ezOpKJ7U",
        "outputId": "a1c7dbe7-fb29-4f72-8df2-1e5e4696a9cc"
      },
      "source": [
        "print(\"Numerical data columns are:\")\n",
        "print(numeric_data.columns)\n",
        "print(\"Categorical data columns are:\")\n",
        "print(categorical_data.columns)"
      ],
      "execution_count": 15,
      "outputs": [
        {
          "output_type": "stream",
          "text": [
            "Numerical data columns are:\n",
            "Index(['Rooms', 'Price', 'Distance', 'Postcode', 'Bedroom2', 'Bathroom', 'Car',\n",
            "       'Landsize', 'BuildingArea', 'YearBuilt', 'Lattitude', 'Longtitude',\n",
            "       'Propertycount'],\n",
            "      dtype='object')\n",
            "Categorical data columns are:\n",
            "Index(['Suburb', 'Address', 'Type', 'Method', 'SellerG', 'Date', 'CouncilArea',\n",
            "       'Regionname'],\n",
            "      dtype='object')\n"
          ],
          "name": "stdout"
        }
      ]
    },
    {
      "cell_type": "code",
      "metadata": {
        "colab": {
          "base_uri": "https://localhost:8080/"
        },
        "id": "zMZV3gKnKJsc",
        "outputId": "d846e48b-fcb0-49b8-f28b-a1d0c9751a48"
      },
      "source": [
        "#Splitting the data into X and y\n",
        "X = melb_data.drop(['Price', 'Date', 'Address'], axis=1)\n",
        "y = melb_data['Price']\n",
        "#Split into training and testing\n",
        "x_train, x_test, y_train, y_test = train_test_split(X, y, test_size=0.25, random_state=42)\n",
        "print(\"Number of samples in training data {}\".format(x_train.shape[0]))\n",
        "print(\"Number of samples in testing data {}\".format(x_test.shape[0]))"
      ],
      "execution_count": 16,
      "outputs": [
        {
          "output_type": "stream",
          "text": [
            "Number of samples in training data 10185\n",
            "Number of samples in testing data 3395\n"
          ],
          "name": "stdout"
        }
      ]
    },
    {
      "cell_type": "code",
      "metadata": {
        "id": "y6n1XhUvKskq"
      },
      "source": [
        "X_copy = X.copy(deep=True)\n",
        "y_copy = y.copy(deep=True)\n",
        "encoder = ce.OrdinalEncoder(cols=['Suburb', 'Type', 'Method', 'SellerG', 'CouncilArea', 'Regionname'])\n",
        "X_copy = encoder.fit_transform(X_copy)"
      ],
      "execution_count": 17,
      "outputs": []
    },
    {
      "cell_type": "markdown",
      "metadata": {
        "id": "6HoN2gCtr5kK"
      },
      "source": [
        "# Feature engineering"
      ]
    },
    {
      "cell_type": "code",
      "metadata": {
        "id": "BCgtEKQNKsgP"
      },
      "source": [
        "#Encoding the categorical data into machine readable format\n",
        "encoder = ce.OrdinalEncoder(cols=['Suburb', 'Type', 'Method', 'SellerG', 'CouncilArea',\n",
        "       'Regionname'])\n",
        "x_train_enc = encoder.fit_transform(x_train)\n",
        "x_test_enc = encoder.transform(x_test)\n",
        "X_enc = encoder.fit_transform(X)"
      ],
      "execution_count": 21,
      "outputs": []
    },
    {
      "cell_type": "code",
      "metadata": {
        "colab": {
          "base_uri": "https://localhost:8080/",
          "height": 215
        },
        "id": "d-LDE2LtKsdL",
        "outputId": "7fbe7559-9d30-4675-871c-a15f659292d5"
      },
      "source": [
        "#The categorical features have been converted to machine readable form\n",
        "x_train_enc.head()"
      ],
      "execution_count": 22,
      "outputs": [
        {
          "output_type": "execute_result",
          "data": {
            "text/html": [
              "<div>\n",
              "<style scoped>\n",
              "    .dataframe tbody tr th:only-of-type {\n",
              "        vertical-align: middle;\n",
              "    }\n",
              "\n",
              "    .dataframe tbody tr th {\n",
              "        vertical-align: top;\n",
              "    }\n",
              "\n",
              "    .dataframe thead th {\n",
              "        text-align: right;\n",
              "    }\n",
              "</style>\n",
              "<table border=\"1\" class=\"dataframe\">\n",
              "  <thead>\n",
              "    <tr style=\"text-align: right;\">\n",
              "      <th></th>\n",
              "      <th>Suburb</th>\n",
              "      <th>Rooms</th>\n",
              "      <th>Type</th>\n",
              "      <th>Method</th>\n",
              "      <th>SellerG</th>\n",
              "      <th>Distance</th>\n",
              "      <th>Postcode</th>\n",
              "      <th>Bedroom2</th>\n",
              "      <th>Bathroom</th>\n",
              "      <th>Car</th>\n",
              "      <th>Landsize</th>\n",
              "      <th>BuildingArea</th>\n",
              "      <th>YearBuilt</th>\n",
              "      <th>CouncilArea</th>\n",
              "      <th>Lattitude</th>\n",
              "      <th>Longtitude</th>\n",
              "      <th>Regionname</th>\n",
              "      <th>Propertycount</th>\n",
              "    </tr>\n",
              "  </thead>\n",
              "  <tbody>\n",
              "    <tr>\n",
              "      <th>11958</th>\n",
              "      <td>1</td>\n",
              "      <td>4</td>\n",
              "      <td>1</td>\n",
              "      <td>1</td>\n",
              "      <td>1</td>\n",
              "      <td>20.6</td>\n",
              "      <td>3064.0</td>\n",
              "      <td>4.0</td>\n",
              "      <td>2.0</td>\n",
              "      <td>2.0</td>\n",
              "      <td>512.0</td>\n",
              "      <td>200.71000</td>\n",
              "      <td>2007.0</td>\n",
              "      <td>1</td>\n",
              "      <td>-37.58505</td>\n",
              "      <td>144.93592</td>\n",
              "      <td>1</td>\n",
              "      <td>15510.0</td>\n",
              "    </tr>\n",
              "    <tr>\n",
              "      <th>5667</th>\n",
              "      <td>2</td>\n",
              "      <td>1</td>\n",
              "      <td>2</td>\n",
              "      <td>2</td>\n",
              "      <td>2</td>\n",
              "      <td>3.3</td>\n",
              "      <td>3141.0</td>\n",
              "      <td>1.0</td>\n",
              "      <td>1.0</td>\n",
              "      <td>0.0</td>\n",
              "      <td>0.0</td>\n",
              "      <td>47.00000</td>\n",
              "      <td>1970.0</td>\n",
              "      <td>2</td>\n",
              "      <td>-37.84370</td>\n",
              "      <td>144.99040</td>\n",
              "      <td>2</td>\n",
              "      <td>14887.0</td>\n",
              "    </tr>\n",
              "    <tr>\n",
              "      <th>12263</th>\n",
              "      <td>3</td>\n",
              "      <td>2</td>\n",
              "      <td>3</td>\n",
              "      <td>1</td>\n",
              "      <td>3</td>\n",
              "      <td>6.7</td>\n",
              "      <td>3058.0</td>\n",
              "      <td>2.0</td>\n",
              "      <td>2.0</td>\n",
              "      <td>1.0</td>\n",
              "      <td>1965.0</td>\n",
              "      <td>103.00000</td>\n",
              "      <td>2000.0</td>\n",
              "      <td>3</td>\n",
              "      <td>-37.73615</td>\n",
              "      <td>144.97455</td>\n",
              "      <td>1</td>\n",
              "      <td>11204.0</td>\n",
              "    </tr>\n",
              "    <tr>\n",
              "      <th>12809</th>\n",
              "      <td>4</td>\n",
              "      <td>3</td>\n",
              "      <td>1</td>\n",
              "      <td>3</td>\n",
              "      <td>4</td>\n",
              "      <td>15.5</td>\n",
              "      <td>3167.0</td>\n",
              "      <td>3.0</td>\n",
              "      <td>1.0</td>\n",
              "      <td>2.0</td>\n",
              "      <td>660.0</td>\n",
              "      <td>151.96765</td>\n",
              "      <td>1965.0</td>\n",
              "      <td>3</td>\n",
              "      <td>-37.92745</td>\n",
              "      <td>145.08276</td>\n",
              "      <td>3</td>\n",
              "      <td>3692.0</td>\n",
              "    </tr>\n",
              "    <tr>\n",
              "      <th>3219</th>\n",
              "      <td>5</td>\n",
              "      <td>1</td>\n",
              "      <td>2</td>\n",
              "      <td>3</td>\n",
              "      <td>5</td>\n",
              "      <td>4.6</td>\n",
              "      <td>3122.0</td>\n",
              "      <td>1.0</td>\n",
              "      <td>1.0</td>\n",
              "      <td>1.0</td>\n",
              "      <td>0.0</td>\n",
              "      <td>44.00000</td>\n",
              "      <td>2014.0</td>\n",
              "      <td>4</td>\n",
              "      <td>-37.82220</td>\n",
              "      <td>145.03290</td>\n",
              "      <td>2</td>\n",
              "      <td>11308.0</td>\n",
              "    </tr>\n",
              "  </tbody>\n",
              "</table>\n",
              "</div>"
            ],
            "text/plain": [
              "       Suburb  Rooms  Type  ...  Longtitude  Regionname  Propertycount\n",
              "11958       1      4     1  ...   144.93592           1        15510.0\n",
              "5667        2      1     2  ...   144.99040           2        14887.0\n",
              "12263       3      2     3  ...   144.97455           1        11204.0\n",
              "12809       4      3     1  ...   145.08276           3         3692.0\n",
              "3219        5      1     2  ...   145.03290           2        11308.0\n",
              "\n",
              "[5 rows x 18 columns]"
            ]
          },
          "metadata": {
            "tags": []
          },
          "execution_count": 22
        }
      ]
    },
    {
      "cell_type": "code",
      "metadata": {
        "id": "Y5EzVwpiKsaQ"
      },
      "source": [
        "x_train_enc = np.asarray(x_train_enc)\n",
        "x_test_enc = np.asarray(x_test_enc)\n",
        "y_train = np.asarray(y_train).ravel()\n",
        "y_test = np.asarray(y_test).ravel()\n"
      ],
      "execution_count": 23,
      "outputs": []
    },
    {
      "cell_type": "markdown",
      "metadata": {
        "id": "btEXsrPFqwzl"
      },
      "source": [
        "# Feature Selection"
      ]
    },
    {
      "cell_type": "markdown",
      "metadata": {
        "id": "Kat7q2LGqwXR"
      },
      "source": [
        "## Filter Methods"
      ]
    },
    {
      "cell_type": "markdown",
      "metadata": {
        "id": "x-Jv_WR6rAGY"
      },
      "source": [
        "### ANOVA F-value"
      ]
    },
    {
      "cell_type": "code",
      "metadata": {
        "colab": {
          "base_uri": "https://localhost:8080/"
        },
        "id": "u4URmikpKsWs",
        "outputId": "94cbcf85-777f-450a-908d-a8a386be127b"
      },
      "source": [
        "f_value = f_regression(x_train_enc, y_train)\n",
        "#f_classif returns F-value and p-values as well\n",
        "#print(f_value)\n",
        "#Print name and F-value of each feature\n",
        "print(\"The F values are:\")\n",
        "for feature in zip(X.columns, f_value[0]):\n",
        "  print(feature)\n",
        "print(\"-\"*50)\n",
        "print(\"The p values are: \")\n",
        "for feature in zip(X.columns, f_value[1]):\n",
        "  print(feature)"
      ],
      "execution_count": 24,
      "outputs": [
        {
          "output_type": "stream",
          "text": [
            "The F values are:\n",
            "('Suburb', 144.3357137987823)\n",
            "('Rooms', 3255.730586964472)\n",
            "('Type', 1054.9098546546243)\n",
            "('Method', 35.569585228628476)\n",
            "('SellerG', 29.709740778105335)\n",
            "('Distance', 260.0206661948133)\n",
            "('Postcode', 105.81626494249068)\n",
            "('Bedroom2', 2879.3553029815757)\n",
            "('Bathroom', 2691.808906329171)\n",
            "('Car', 583.0926144891721)\n",
            "('Landsize', 21.322419183908078)\n",
            "('BuildingArea', 37.36010155146897)\n",
            "('YearBuilt', 778.0680466122465)\n",
            "('CouncilArea', 164.3896708151641)\n",
            "('Lattitude', 464.47104244221885)\n",
            "('Longtitude', 430.6263089434591)\n",
            "('Regionname', 119.129218014993)\n",
            "('Propertycount', 19.159988695063138)\n",
            "--------------------------------------------------\n",
            "The p values are: \n",
            "('Suburb', 5.0151771311998306e-33)\n",
            "('Rooms', 0.0)\n",
            "('Type', 2.787518685106134e-220)\n",
            "('Method', 2.5428394299135406e-09)\n",
            "('SellerG', 5.1352955192555794e-08)\n",
            "('Distance', 8.796645152765723e-58)\n",
            "('Postcode', 1.0684215075838167e-24)\n",
            "('Bedroom2', 0.0)\n",
            "('Bathroom', 0.0)\n",
            "('Car', 2.5461565316659586e-125)\n",
            "('Landsize', 3.929198450452865e-06)\n",
            "('BuildingArea', 1.0181032811563056e-09)\n",
            "('YearBuilt', 4.573987542007634e-165)\n",
            "('CouncilArea', 2.416439783357796e-37)\n",
            "('Lattitude', 8.936451804125785e-101)\n",
            "('Longtitude', 1.0155929835909096e-93)\n",
            "('Regionname', 1.3945680041393588e-27)\n",
            "('Propertycount', 1.2140568726998029e-05)\n"
          ],
          "name": "stdout"
        }
      ]
    },
    {
      "cell_type": "code",
      "metadata": {
        "colab": {
          "base_uri": "https://localhost:8080/",
          "height": 339
        },
        "id": "KBSqSvq2KsTT",
        "outputId": "cddc4a0b-1316-4c1f-f242-5c81b8590db3"
      },
      "source": [
        "#Plotting a F-value comparison bar-plot\n",
        "plt.bar(x=X.columns, height=np.asarray(f_value[0]), color='tomato')\n",
        "plt.xticks(rotation='vertical')\n",
        "plt.ylabel('F-value')\n",
        "plt.xlabel('F-value comparison')\n",
        "plt.show()"
      ],
      "execution_count": 25,
      "outputs": [
        {
          "output_type": "display_data",
          "data": {
            "image/png": "[encoded data removed]",
            "text/plain": [
              "<Figure size 432x288 with 1 Axes>"
            ]
          },
          "metadata": {
            "tags": [],
            "needs_background": "light"
          }
        }
      ]
    },
    {
      "cell_type": "markdown",
      "metadata": {
        "id": "cn06uNyUrG_n"
      },
      "source": [
        "### Variance Threshold"
      ]
    },
    {
      "cell_type": "code",
      "metadata": {
        "colab": {
          "base_uri": "https://localhost:8080/"
        },
        "id": "iMcw4CVDKsK9",
        "outputId": "17213879-90d8-46ef-a8ee-b198f66494be"
      },
      "source": [
        "selector = VarianceThreshold()\n",
        "#Perform variance threshold\n",
        "selector.fit_transform(x_train_enc)\n",
        "#Print the name and the variance of each feature\n",
        "for feature in zip(X.columns, selector.variances_):\n",
        "  print(feature)"
      ],
      "execution_count": 26,
      "outputs": [
        {
          "output_type": "stream",
          "text": [
            "('Suburb', 305.0)\n",
            "('Rooms', 0.917027528764012)\n",
            "('Type', 0.40723662802705674)\n",
            "('Method', 1.2631211733639502)\n",
            "('SellerG', 245.0)\n",
            "('Distance', 35.070834216383254)\n",
            "('Postcode', 977.0)\n",
            "('Bedroom2', 0.9429777877069982)\n",
            "('Bathroom', 0.47655390494313715)\n",
            "('Car', 0.9276676622397284)\n",
            "('Landsize', 75100.0)\n",
            "('BuildingArea', 44515.0)\n",
            "('YearBuilt', 188.0)\n",
            "('CouncilArea', 32.0)\n",
            "('Lattitude', 0.006251643280649329)\n",
            "('Longtitude', 0.010865281404032643)\n",
            "('Regionname', 2.4889346211436)\n",
            "('Propertycount', 21401.0)\n"
          ],
          "name": "stdout"
        }
      ]
    },
    {
      "cell_type": "code",
      "metadata": {
        "colab": {
          "base_uri": "https://localhost:8080/",
          "height": 339
        },
        "id": "ph6GKtwNKsH0",
        "outputId": "669f7108-ff67-4392-c0ab-ba7a3c569e67"
      },
      "source": [
        "#Plotting a bar graph\n",
        "plt.bar(x=X.columns, height=selector.variances_, color='tomato')\n",
        "plt.xticks(rotation='vertical')\n",
        "plt.ylabel('Variance')\n",
        "plt.xlabel('Variance Comparison')\n",
        "plt.show()"
      ],
      "execution_count": 27,
      "outputs": [
        {
          "output_type": "display_data",
          "data": {
            "image/png": "[encoded data removed]",
            "text/plain": [
              "<Figure size 432x288 with 1 Axes>"
            ]
          },
          "metadata": {
            "tags": [],
            "needs_background": "light"
          }
        }
      ]
    },
    {
      "cell_type": "code",
      "metadata": {
        "colab": {
          "base_uri": "https://localhost:8080/"
        },
        "id": "4OLEibbAKsFJ",
        "outputId": "eb8822ee-e90b-4c48-d60c-984e4dc8e5cc"
      },
      "source": [
        "selector = VarianceThreshold(threshold=0.2)\n",
        "#Transform the dataset according to the variance threshold\n",
        "x_train_new = selector.fit_transform(x_train_enc)\n",
        "print('Number of features before variance thresholding: {}'.format(x_train_enc.shape[1]))\n",
        "print('Number of features after variance thresholding: {}'.format(x_train_new.shape[1]))"
      ],
      "execution_count": 28,
      "outputs": [
        {
          "output_type": "stream",
          "text": [
            "Number of features before variance thresholding: 18\n",
            "Number of features after variance thresholding: 16\n"
          ],
          "name": "stdout"
        }
      ]
    },
    {
      "cell_type": "markdown",
      "metadata": {
        "id": "GIpjkmjyrPQl"
      },
      "source": [
        "### Mutual Information"
      ]
    },
    {
      "cell_type": "code",
      "metadata": {
        "colab": {
          "base_uri": "https://localhost:8080/"
        },
        "id": "nnkmX27MKsB5",
        "outputId": "0464db69-70e2-4843-df10-a8b877a5a023"
      },
      "source": [
        "#Create mutual_info_classif object to calculate mutual information\n",
        "MI_score = mutual_info_classif(x_train_enc, y_train, random_state=42)\n",
        "for feature in zip(X.columns, MI_score):\n",
        "    print(feature)"
      ],
      "execution_count": 29,
      "outputs": [
        {
          "output_type": "stream",
          "text": [
            "('Suburb', 0.06060097888493754)\n",
            "('Rooms', 0.5400334319287419)\n",
            "('Type', 1.3255406837391783)\n",
            "('Method', 1.3068679053072474)\n",
            "('SellerG', 0.055572431438214664)\n",
            "('Distance', 0.060184219891636026)\n",
            "('Postcode', 0.1272095444656376)\n",
            "('Bedroom2', 0.48730958927193235)\n",
            "('Bathroom', 0.8586037166117988)\n",
            "('Car', 0.6005669266683302)\n",
            "('Landsize', 0.12648274340959542)\n",
            "('BuildingArea', 0.35207128191204085)\n",
            "('YearBuilt', 0.20091717312626312)\n",
            "('CouncilArea', 0.11888215167935012)\n",
            "('Lattitude', 0.11020675515496947)\n",
            "('Longtitude', 0.1005237645049144)\n",
            "('Regionname', 0.44838494825024533)\n",
            "('Propertycount', 0.04738901971318743)\n"
          ],
          "name": "stdout"
        }
      ]
    },
    {
      "cell_type": "code",
      "metadata": {
        "colab": {
          "base_uri": "https://localhost:8080/",
          "height": 341
        },
        "id": "xfLUuWnPKr6m",
        "outputId": "48d7a7aa-6103-4f91-c850-cc5ed3c99cb1"
      },
      "source": [
        "plt.figure(figsize=(4,4))\n",
        "plt.bar(x=X.columns, height=MI_score, color='tomato')\n",
        "plt.xticks(rotation='vertical')\n",
        "plt.ylabel('Mutual Information Score')\n",
        "plt.title('Mutual Information Score Comparison')\n",
        "plt.show()"
      ],
      "execution_count": 30,
      "outputs": [
        {
          "output_type": "display_data",
          "data": {
            "image/png": "[encoded data removed]",
            "text/plain": [
              "<Figure size 288x288 with 1 Axes>"
            ]
          },
          "metadata": {
            "tags": [],
            "needs_background": "light"
          }
        }
      ]
    },
    {
      "cell_type": "markdown",
      "metadata": {
        "id": "UQol2kqSrTgU"
      },
      "source": [
        "### Using Selector Object for Selecting Features"
      ]
    },
    {
      "cell_type": "code",
      "metadata": {
        "colab": {
          "base_uri": "https://localhost:8080/"
        },
        "id": "43bzQeVsKr3P",
        "outputId": "47b8e4ef-6b86-4025-bf97-7f181e4b3546"
      },
      "source": [
        "skb = SelectKBest(score_func=f_regression, # Set f_classif as our criteria to select features\n",
        "                  k=2)                    # Select top two features based on the criteria\n",
        "# Train and transform the dataset according to the SelectKBest\n",
        "x_data_new = skb.fit_transform(x_train_enc ,y_train)\n",
        "print('Number of features before feature selection: {}'.format(x_train_enc.shape[1]))\n",
        "print('Number of features after feature selection: {}'.format(x_data_new.shape[1]))\n",
        "#Top two features have been selected by the SelectKBest method according to f_regression function"
      ],
      "execution_count": 31,
      "outputs": [
        {
          "output_type": "stream",
          "text": [
            "Number of features before feature selection: 18\n",
            "Number of features after feature selection: 2\n"
          ],
          "name": "stdout"
        }
      ]
    },
    {
      "cell_type": "markdown",
      "metadata": {
        "id": "1LcTr0t6p8Wz"
      },
      "source": [
        "## Wrapper Methods"
      ]
    },
    {
      "cell_type": "markdown",
      "metadata": {
        "id": "jjXEctqtp5z7"
      },
      "source": [
        "### Exhaustive Feature Selection (EFS)"
      ]
    },
    {
      "cell_type": "code",
      "metadata": {
        "id": "DolXCFIVLWrw",
        "colab": {
          "base_uri": "https://localhost:8080/"
        },
        "outputId": "14dd3c06-f786-44f4-b7e6-f6fb9b5010d0"
      },
      "source": [
        "#Checking the accuracy of Linear regression before Exhaustive Feature Selection (EFS)\n",
        "lr = LinearRegression()\n",
        "lr.fit(x_train_enc, y_train)\n",
        "print(\"The r2_score of Linear regression before feature selection is: {}\".format(\n",
        "      r2_score(y_test, lr.predict(x_test_enc))))"
      ],
      "execution_count": 32,
      "outputs": [
        {
          "output_type": "stream",
          "text": [
            "The r2_score of Linear regression before feature selection is: 0.58205731223489\n"
          ],
          "name": "stdout"
        }
      ]
    },
    {
      "cell_type": "code",
      "metadata": {
        "id": "Tf8cWw62LWcE",
        "colab": {
          "base_uri": "https://localhost:8080/"
        },
        "outputId": "88e57338-3b05-40af-bdd5-91588be9a334"
      },
      "source": [
        "#Create an EFS object\n",
        "efs = EFS(estimator=lr,        #Using Linear Regression as estimator\n",
        "          min_features=1,      #The minimum number of features to consider is 1\n",
        "          max_features=6,      #The maximum number of features to consider is 6\n",
        "          scoring='r2')        #The metric to use to evaluate the estimator is r2_score                 \n",
        "#Train EFS with our dataset\n",
        "efs = efs.fit(x_train_enc, y_train)\n",
        "print('Best accuracy score: %.2f' % efs.best_score_) #best_score_ shows the best score \n",
        "print('Best subset (indices):', efs.best_idx_)       #best_idx_ shows the index of features that yield the best score "
      ],
      "execution_count": 33,
      "outputs": [
        {
          "output_type": "stream",
          "text": [
            "Features: 31179/31179"
          ],
          "name": "stderr"
        },
        {
          "output_type": "stream",
          "text": [
            "Best accuracy score: 0.51\n",
            "Best subset (indices): (1, 2, 5, 8, 14, 15)\n"
          ],
          "name": "stdout"
        }
      ]
    },
    {
      "cell_type": "code",
      "metadata": {
        "id": "95XVAg3sLWLE",
        "colab": {
          "base_uri": "https://localhost:8080/"
        },
        "outputId": "44a4da22-0341-45c5-e03a-94536ea7bc75"
      },
      "source": [
        "x_train_new = efs.transform(x_train_enc)\n",
        "print('Number of features before transformation: {}'.format(x_train_enc.shape[1]))\n",
        "print('Number of features after transformation: {}'.format(x_train_new.shape[1]))"
      ],
      "execution_count": 34,
      "outputs": [
        {
          "output_type": "stream",
          "text": [
            "Number of features before transformation: 18\n",
            "Number of features after transformation: 6\n"
          ],
          "name": "stdout"
        }
      ]
    },
    {
      "cell_type": "code",
      "metadata": {
        "id": "TCGWB-kgLWH0",
        "colab": {
          "base_uri": "https://localhost:8080/"
        },
        "outputId": "a7e81fd8-ad64-4525-9e53-da9c1e9de0c2"
      },
      "source": [
        "#Useful columns in the Melborne dataset as selected from EFS method are:\n",
        "useful_col = list(efs.best_feature_names_)\n",
        "col_list = X.columns\n",
        "for x in useful_col:\n",
        "  print(col_list[int(x)])"
      ],
      "execution_count": 35,
      "outputs": [
        {
          "output_type": "stream",
          "text": [
            "Rooms\n",
            "Type\n",
            "Distance\n",
            "Bathroom\n",
            "Lattitude\n",
            "Longtitude\n"
          ],
          "name": "stdout"
        }
      ]
    },
    {
      "cell_type": "markdown",
      "metadata": {
        "id": "eautHeshpjKI"
      },
      "source": [
        "## Embedded Methods"
      ]
    },
    {
      "cell_type": "markdown",
      "metadata": {
        "id": "ntk-VLvopgFQ"
      },
      "source": [
        "### Random Forest Regressor"
      ]
    },
    {
      "cell_type": "code",
      "metadata": {
        "id": "fE9TCIPCLWFe",
        "colab": {
          "base_uri": "https://localhost:8080/"
        },
        "outputId": "381105ef-747c-44c4-be62-8823278f4806"
      },
      "source": [
        "#Before using feature selection\n",
        "randomforest = RandomForestRegressor(n_estimators=500, random_state=42)\n",
        "randomforest.fit(x_train_enc, y_train)\n",
        "print(\"The r2_score before applying RandomForestRegressor: {}\".\n",
        "      format(r2_score(y_test, randomforest.predict(x_test_enc))))"
      ],
      "execution_count": 36,
      "outputs": [
        {
          "output_type": "stream",
          "text": [
            "The r2_score before applying RandomForestRegressor: 0.8226109918062539\n"
          ],
          "name": "stdout"
        }
      ]
    },
    {
      "cell_type": "code",
      "metadata": {
        "id": "Pw-PiGA1LWBJ",
        "colab": {
          "base_uri": "https://localhost:8080/"
        },
        "outputId": "69fe863f-e661-48d7-a6d5-2dc51c6f0b2a"
      },
      "source": [
        "np.mean(randomforest.feature_importances_)"
      ],
      "execution_count": 37,
      "outputs": [
        {
          "output_type": "execute_result",
          "data": {
            "text/plain": [
              "0.05555555555555555"
            ]
          },
          "metadata": {
            "tags": []
          },
          "execution_count": 37
        }
      ]
    },
    {
      "cell_type": "code",
      "metadata": {
        "id": "rc3W0Qe7LV97"
      },
      "source": [
        "#Using RandomForestClassifier to find the best features in our dataset\n",
        "randomforest = RandomForestRegressor(n_estimators=500, random_state=42)\n",
        "sfm = SelectFromModel(estimator=randomforest, #We are going to use RandomForestClassifier\n",
        "                      threshold=0.03)         #Threshold value to be used for feature selection\n",
        "sfm = sfm.fit(x_train_enc, y_train)"
      ],
      "execution_count": 38,
      "outputs": []
    },
    {
      "cell_type": "code",
      "metadata": {
        "id": "IzMJNifLLV6x",
        "colab": {
          "base_uri": "https://localhost:8080/"
        },
        "outputId": "cf5720dc-f29b-4b60-f870-41661fba30ec"
      },
      "source": [
        "x_train_new = sfm.transform(x_train_enc)\n",
        "x_test_new = sfm.transform(x_test_enc)\n",
        "x_train_new.shape\n"
      ],
      "execution_count": 39,
      "outputs": [
        {
          "output_type": "execute_result",
          "data": {
            "text/plain": [
              "(10185, 9)"
            ]
          },
          "metadata": {
            "tags": []
          },
          "execution_count": 39
        }
      ]
    },
    {
      "cell_type": "code",
      "metadata": {
        "id": "AdhlGdVKLV3l",
        "colab": {
          "base_uri": "https://localhost:8080/"
        },
        "outputId": "6211a4b3-ae7d-4497-b856-cd9ffaf2a2fb"
      },
      "source": [
        "#Accuracy of RandomForestRegressor after transforming x_train_enc\n",
        "randomforest = RandomForestRegressor(n_estimators=500, random_state=42)\n",
        "randomforest.fit(x_train_new, y_train)\n",
        "print(\"The r2_score after feature selection is: {}\".format(r2_score(y_test, randomforest.predict(x_test_new))))"
      ],
      "execution_count": 40,
      "outputs": [
        {
          "output_type": "stream",
          "text": [
            "The r2_score after feature selection is: 0.8214103726559625\n"
          ],
          "name": "stdout"
        }
      ]
    },
    {
      "cell_type": "markdown",
      "metadata": {
        "id": "y_bVTtIvpYP-"
      },
      "source": [
        "#### GridSearchCV"
      ]
    },
    {
      "cell_type": "code",
      "metadata": {
        "id": "rG--ZBSeLV0j"
      },
      "source": [
        "#We can further fine-tune RandomForestRegressor using GridSearchCV\n",
        "rfc_grid ={\n",
        "    'n_estimators':[100,200, 300, 350, 400, 450, 500],\n",
        "    'max_depth': list(np.arange(start=10, stop=25)),\n",
        "    'max_features': ['auto', 'sqrt', 'log2'],\n",
        "}\n",
        "rfc = GridSearchCV(estimator=RandomForestRegressor(), param_grid=rfc_grid,\n",
        "                   n_jobs=-1, verbose=3, scoring='r2')"
      ],
      "execution_count": 44,
      "outputs": []
    },
    {
      "cell_type": "code",
      "metadata": {
        "id": "RdVul1FCLVxy",
        "colab": {
          "base_uri": "https://localhost:8080/"
        },
        "outputId": "dbcf8844-a072-4fdd-f268-f8ec07a55a14"
      },
      "source": [
        "rfc.fit(x_train_new, y_train)"
      ],
      "execution_count": 45,
      "outputs": [
        {
          "output_type": "stream",
          "text": [
            "Fitting 5 folds for each of 315 candidates, totalling 1575 fits\n"
          ],
          "name": "stdout"
        },
        {
          "output_type": "stream",
          "text": [
            "[Parallel(n_jobs=-1)]: Using backend LokyBackend with 2 concurrent workers.\n",
            "[Parallel(n_jobs=-1)]: Done  28 tasks      | elapsed:  2.6min\n",
            "[Parallel(n_jobs=-1)]: Done 124 tasks      | elapsed:  8.0min\n",
            "[Parallel(n_jobs=-1)]: Done 284 tasks      | elapsed: 19.6min\n",
            "[Parallel(n_jobs=-1)]: Done 508 tasks      | elapsed: 36.8min\n",
            "[Parallel(n_jobs=-1)]: Done 796 tasks      | elapsed: 63.3min\n",
            "[Parallel(n_jobs=-1)]: Done 1148 tasks      | elapsed: 96.2min\n",
            "[Parallel(n_jobs=-1)]: Done 1564 tasks      | elapsed: 137.7min\n",
            "[Parallel(n_jobs=-1)]: Done 1575 out of 1575 | elapsed: 138.8min finished\n"
          ],
          "name": "stderr"
        },
        {
          "output_type": "execute_result",
          "data": {
            "text/plain": [
              "GridSearchCV(cv=None, error_score=nan,\n",
              "             estimator=RandomForestRegressor(bootstrap=True, ccp_alpha=0.0,\n",
              "                                             criterion='mse', max_depth=None,\n",
              "                                             max_features='auto',\n",
              "                                             max_leaf_nodes=None,\n",
              "                                             max_samples=None,\n",
              "                                             min_impurity_decrease=0.0,\n",
              "                                             min_impurity_split=None,\n",
              "                                             min_samples_leaf=1,\n",
              "                                             min_samples_split=2,\n",
              "                                             min_weight_fraction_leaf=0.0,\n",
              "                                             n_estimators=100, n_jobs=None,\n",
              "                                             oob_score=False, random_state=None,\n",
              "                                             verbose=0, warm_start=False),\n",
              "             iid='deprecated', n_jobs=-1,\n",
              "             param_grid={'max_depth': [10, 11, 12, 13, 14, 15, 16, 17, 18, 19,\n",
              "                                       20, 21, 22, 23, 24],\n",
              "                         'max_features': ['auto', 'sqrt', 'log2'],\n",
              "                         'n_estimators': [100, 200, 300, 350, 400, 450, 500]},\n",
              "             pre_dispatch='2*n_jobs', refit=True, return_train_score=False,\n",
              "             scoring='r2', verbose=3)"
            ]
          },
          "metadata": {
            "tags": []
          },
          "execution_count": 45
        }
      ]
    },
    {
      "cell_type": "code",
      "metadata": {
        "id": "ZcMMkJFmLVuq",
        "colab": {
          "base_uri": "https://localhost:8080/"
        },
        "outputId": "b3058740-c977-45bc-f5c6-64702bb56db6"
      },
      "source": [
        "rfc.best_estimator_"
      ],
      "execution_count": 46,
      "outputs": [
        {
          "output_type": "execute_result",
          "data": {
            "text/plain": [
              "RandomForestRegressor(bootstrap=True, ccp_alpha=0.0, criterion='mse',\n",
              "                      max_depth=21, max_features='log2', max_leaf_nodes=None,\n",
              "                      max_samples=None, min_impurity_decrease=0.0,\n",
              "                      min_impurity_split=None, min_samples_leaf=1,\n",
              "                      min_samples_split=2, min_weight_fraction_leaf=0.0,\n",
              "                      n_estimators=450, n_jobs=None, oob_score=False,\n",
              "                      random_state=None, verbose=0, warm_start=False)"
            ]
          },
          "metadata": {
            "tags": []
          },
          "execution_count": 46
        }
      ]
    },
    {
      "cell_type": "code",
      "metadata": {
        "id": "SMHHsA1ALVrR",
        "colab": {
          "base_uri": "https://localhost:8080/"
        },
        "outputId": "e245935c-64ce-44c6-8b18-1935048fa490"
      },
      "source": [
        "randomforest = rfc.best_estimator_\n",
        "randomforest.fit(x_train_new, y_train)\n",
        "print(\"The r2_score after performing GridSearchCV is: {}\".format(r2_score(y_test, randomforest.predict(x_test_new))))"
      ],
      "execution_count": 47,
      "outputs": [
        {
          "output_type": "stream",
          "text": [
            "The r2_score after performing GridSearchCV is: 0.8318906405683635\n"
          ],
          "name": "stdout"
        }
      ]
    },
    {
      "cell_type": "markdown",
      "metadata": {
        "id": "2GHe7CvFpHPg"
      },
      "source": [
        "### Decision Tree Regressor"
      ]
    },
    {
      "cell_type": "code",
      "metadata": {
        "id": "EYPmPshQLVnK",
        "colab": {
          "base_uri": "https://localhost:8080/"
        },
        "outputId": "29a0428f-f6e6-4a28-8df5-c48d5103c1b0"
      },
      "source": [
        "decisiontree = DecisionTreeRegressor()\n",
        "decisiontree.fit(x_train_enc, y_train)\n",
        "print(\"The r2_score before applying feature engineering using DecisionTreeRegressor: {}\".\n",
        "      format(r2_score(y_test, decisiontree.predict(x_test_enc))))"
      ],
      "execution_count": 48,
      "outputs": [
        {
          "output_type": "stream",
          "text": [
            "The r2_score before applying feature engineering using DecisionTreeRegressor: 0.5519221370821259\n"
          ],
          "name": "stdout"
        }
      ]
    },
    {
      "cell_type": "code",
      "metadata": {
        "id": "fJMa8WH5LVjr"
      },
      "source": [
        "#Using DecisionTreeRegressor to find the best features in our dataset\n",
        "decisiontree = DecisionTreeRegressor(random_state=42)\n",
        "sfm = SelectFromModel(estimator=decisiontree) #We are going to use DecisionTreeRegressor\n",
        "sfm = sfm.fit(x_train_enc, y_train)"
      ],
      "execution_count": 49,
      "outputs": []
    },
    {
      "cell_type": "code",
      "metadata": {
        "id": "LqbrCMt8LVgg",
        "colab": {
          "base_uri": "https://localhost:8080/"
        },
        "outputId": "cb4da548-d611-4f24-bc4d-aafd4135f815"
      },
      "source": [
        "selected=[]\n",
        "print('The most important features based on DecisionTreeRegressor:')\n",
        "for feature_list_index in sfm.get_support(indices=True):\n",
        "    selected.append(X.columns[feature_list_index])\n",
        "    print('- ' + X.columns[feature_list_index])"
      ],
      "execution_count": 50,
      "outputs": [
        {
          "output_type": "stream",
          "text": [
            "The most important features based on DecisionTreeRegressor:\n",
            "- Rooms\n",
            "- Type\n",
            "- Distance\n",
            "- Postcode\n",
            "- Landsize\n",
            "- Longtitude\n"
          ],
          "name": "stdout"
        }
      ]
    },
    {
      "cell_type": "code",
      "metadata": {
        "id": "kbswc5puLVdh",
        "colab": {
          "base_uri": "https://localhost:8080/"
        },
        "outputId": "95300260-13cd-4e8b-edf1-2c5ac2f13718"
      },
      "source": [
        "x_train_new = sfm.transform(x_train_enc)\n",
        "x_test_new = sfm.transform(x_test_enc)\n",
        "x_train_new.shape"
      ],
      "execution_count": 51,
      "outputs": [
        {
          "output_type": "execute_result",
          "data": {
            "text/plain": [
              "(10185, 6)"
            ]
          },
          "metadata": {
            "tags": []
          },
          "execution_count": 51
        }
      ]
    },
    {
      "cell_type": "code",
      "metadata": {
        "id": "wG1LN3mkLVaZ",
        "colab": {
          "base_uri": "https://localhost:8080/"
        },
        "outputId": "f0c7d75b-a783-4848-da64-95c08cec61df"
      },
      "source": [
        "#Accuracy of DecisionTreeRegressor after transforming x_train_enc\n",
        "decisiontree = DecisionTreeRegressor()\n",
        "decisiontree.fit(x_train_new, y_train)\n",
        "print(\"The r2_score after using feature selection is: {}\".\n",
        "      format(r2_score(y_test, decisiontree.predict(x_test_new))))"
      ],
      "execution_count": 52,
      "outputs": [
        {
          "output_type": "stream",
          "text": [
            "The r2_score after using feature selection is: 0.5793963616780904\n"
          ],
          "name": "stdout"
        }
      ]
    },
    {
      "cell_type": "markdown",
      "metadata": {
        "id": "2P6fVqvHo5c1"
      },
      "source": [
        "#### GridSearchCV"
      ]
    },
    {
      "cell_type": "code",
      "metadata": {
        "id": "KpNZJQWPLVWv",
        "colab": {
          "base_uri": "https://localhost:8080/"
        },
        "outputId": "ce5adbc1-3e68-4dcf-8779-826729e07ff3"
      },
      "source": [
        "dt_grid = {\n",
        "    'criterion': ['mse', 'mae', 'poisson'],\n",
        "    'splitter': ['best', 'random'],\n",
        "    'max_depth': list(np.arange(start=1, stop=15)),\n",
        "    'max_features': ['auto', 'sqrt', 'log2']\n",
        "}\n",
        "dtr = GridSearchCV(estimator=DecisionTreeRegressor(),\n",
        "                  param_grid=dt_grid,\n",
        "                  scoring='r2',\n",
        "                  n_jobs=-1)\n",
        "dtr.fit(x_train_new, y_train)"
      ],
      "execution_count": 53,
      "outputs": [
        {
          "output_type": "execute_result",
          "data": {
            "text/plain": [
              "GridSearchCV(cv=None, error_score=nan,\n",
              "             estimator=DecisionTreeRegressor(ccp_alpha=0.0, criterion='mse',\n",
              "                                             max_depth=None, max_features=None,\n",
              "                                             max_leaf_nodes=None,\n",
              "                                             min_impurity_decrease=0.0,\n",
              "                                             min_impurity_split=None,\n",
              "                                             min_samples_leaf=1,\n",
              "                                             min_samples_split=2,\n",
              "                                             min_weight_fraction_leaf=0.0,\n",
              "                                             presort='deprecated',\n",
              "                                             random_state=None,\n",
              "                                             splitter='best'),\n",
              "             iid='deprecated', n_jobs=-1,\n",
              "             param_grid={'criterion': ['mse', 'mae', 'poisson'],\n",
              "                         'max_depth': [1, 2, 3, 4, 5, 6, 7, 8, 9, 10, 11, 12,\n",
              "                                       13, 14],\n",
              "                         'max_features': ['auto', 'sqrt', 'log2'],\n",
              "                         'splitter': ['best', 'random']},\n",
              "             pre_dispatch='2*n_jobs', refit=True, return_train_score=False,\n",
              "             scoring='r2', verbose=0)"
            ]
          },
          "metadata": {
            "tags": []
          },
          "execution_count": 53
        }
      ]
    },
    {
      "cell_type": "code",
      "metadata": {
        "id": "YBTUzNRYLVSH",
        "colab": {
          "base_uri": "https://localhost:8080/"
        },
        "outputId": "27aa995c-14e4-4efc-d653-dd371a612705"
      },
      "source": [
        "dtr.best_params_"
      ],
      "execution_count": 54,
      "outputs": [
        {
          "output_type": "execute_result",
          "data": {
            "text/plain": [
              "{'criterion': 'mae',\n",
              " 'max_depth': 8,\n",
              " 'max_features': 'auto',\n",
              " 'splitter': 'best'}"
            ]
          },
          "metadata": {
            "tags": []
          },
          "execution_count": 54
        }
      ]
    },
    {
      "cell_type": "code",
      "metadata": {
        "id": "fOAoetGmoH24",
        "colab": {
          "base_uri": "https://localhost:8080/"
        },
        "outputId": "03ca5a67-ca2c-4e01-9279-105fecc339d4"
      },
      "source": [
        "decisiontree=dtr.best_estimator_\n",
        "decisiontree.fit(x_train_new, y_train)\n",
        "y_pred_dt = decisiontree.predict(x_test_new)\n",
        "print(\"The r2 score after using GridSearchCV is {}\".format(r2_score(y_test, y_pred_dt)))"
      ],
      "execution_count": 55,
      "outputs": [
        {
          "output_type": "stream",
          "text": [
            "The r2 score after using GridSearchCV is 0.6758111133281912\n"
          ],
          "name": "stdout"
        }
      ]
    },
    {
      "cell_type": "markdown",
      "metadata": {
        "id": "7QxpyoL0oQhJ"
      },
      "source": [
        "# **`Final Model`**"
      ]
    },
    {
      "cell_type": "code",
      "metadata": {
        "colab": {
          "base_uri": "https://localhost:8080/"
        },
        "id": "S68JTUU4oH0E",
        "outputId": "bf7d0ecc-b6a7-4ca3-a007-7a860f38fe47"
      },
      "source": [
        "#Using RandomForestRegressor, since it has got the best r2_score\n",
        "randomforest = rfc.best_estimator_\n",
        "print(\"The average score after using cross validation is: {}\".\n",
        "     format(np.mean(cross_val_score(randomforest, X_copy, y_copy, cv=7))))"
      ],
      "execution_count": 56,
      "outputs": [
        {
          "output_type": "stream",
          "text": [
            "The average score after using cross validation is: 0.7826500247211727\n"
          ],
          "name": "stdout"
        }
      ]
    }
  ]
}